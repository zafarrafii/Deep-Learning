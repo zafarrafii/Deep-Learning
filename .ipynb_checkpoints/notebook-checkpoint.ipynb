{
 "cells": [
  {
   "cell_type": "markdown",
   "metadata": {},
   "source": [
    "# Perceptron"
   ]
  },
  {
   "cell_type": "markdown",
   "metadata": {},
   "source": [
    "## 01.1 Create a function (single neuron) with some inputs and outputs"
   ]
  },
  {
   "cell_type": "code",
   "execution_count": 26,
   "metadata": {},
   "outputs": [],
   "source": [
    "import numpy as np\n",
    "\n",
    "# Define the true weights and bias for a single neuron\n",
    "# (see also http://d2l.ai/chapter_linear-networks/linear-regression-scratch.html)\n",
    "true_weights = np.array([2, -3.4])\n",
    "true_bias = 4.2\n",
    "\n",
    "# Create some inputs using a standard normal distribution\n",
    "number_examples = 1000\n",
    "number_features = len(true_weights)\n",
    "true_inputs = np.random.normal(loc=0.0, scale=1.0, size=(number_examples, number_features))\n",
    "\n",
    "# Create some noise for all the examples using a normal distribution\n",
    "true_noise = np.random.normal(loc=0.0, scale=0.01, size=number_examples)\n",
    "    \n",
    "# Compute the true outputs using the inputs, and the true weights, bias, and noise\n",
    "true_outputs = np.matmul(true_inputs, true_weights) + true_bias + true_noise"
   ]
  },
  {
   "cell_type": "markdown",
   "metadata": {},
   "source": [
    "## 01.2. Learn the parameters of the neuron using gradient descent (linear regression)"
   ]
  },
  {
   "cell_type": "code",
   "execution_count": 27,
   "metadata": {},
   "outputs": [
    {
     "name": "stdout",
     "output_type": "stream",
     "text": [
      "Epoch: 0; loss: 2.8097675958922834\n",
      "Epoch: 1; loss: 0.007768163216217438\n",
      "Epoch: 2; loss: 7.728662892631507e-05\n",
      "Epoch: 3; loss: 5.251561458964046e-05\n",
      "Epoch: 4; loss: 5.235768947812039e-05\n",
      "Epoch: 5; loss: 5.235289596052543e-05\n",
      "Epoch: 6; loss: 5.2352640014332496e-05\n",
      "Epoch: 7; loss: 5.2352625446847765e-05\n",
      "Epoch: 8; loss: 5.235262460523376e-05\n",
      "Epoch: 9; loss: 5.235262455617332e-05\n",
      "\n",
      "Predicted weights: [ 2.00008566 -3.3996352 ]\n",
      "Predicted bias: 4.199705558055032\n"
     ]
    }
   ],
   "source": [
    "# Define the training parameters\n",
    "number_epochs = 10\n",
    "batch_size = 10\n",
    "learning_rate = 0.03\n",
    "\n",
    "# Initialize the predicted weights and bias\n",
    "predicted_weights = np.random.normal(loc=0.0, scale=0.01, size=number_features)\n",
    "predicted_bias = 0\n",
    "\n",
    "# Initialize the loss for all the batches\n",
    "predicted_loss = np.zeros(int(np.ceil(number_examples/batch_size)))\n",
    "\n",
    "# Loop over the epochs\n",
    "for i in range(number_epochs):\n",
    "    \n",
    "    # Loop over the batches\n",
    "    k = 0\n",
    "    for j in range(0, number_examples, batch_size):\n",
    "        \n",
    "        # Derive the end index of the batch\n",
    "        j2 = min(j+batch_size, number_examples)\n",
    "    \n",
    "        # Compute the predicted outputs using the inputs, and the predicted weights and bias\n",
    "        predicted_outputs = np.matmul(true_inputs[j:j2, :], predicted_weights) + predicted_bias\n",
    "\n",
    "        # Compute the difference between the predicted outputs and the true outputs\n",
    "        difference_outputs = predicted_outputs-true_outputs[j:j2]\n",
    "\n",
    "        # Compute the loss using the mean squared error\n",
    "        predicted_loss[k] = np.mean(0.5*np.power(difference_outputs, 2))\n",
    "\n",
    "        # Update the predicted weights and bias using gradient descent, taking the derivative of the loss function\n",
    "        predicted_weights = predicted_weights-learning_rate*np.mean(true_inputs[j:j2, :]*(difference_outputs)[:, np.newaxis], axis=0)\n",
    "        predicted_bias = predicted_bias-learning_rate*np.mean(difference_outputs, axis=0)\n",
    "        \n",
    "        # Update the index\n",
    "        k = k+1\n",
    "        \n",
    "    # Print the epoch and loss\n",
    "    print(f\"Epoch: {i}; loss: {np.mean(predicted_loss)}\")\n",
    "    \n",
    "# Print the predicted weights and bias\n",
    "print(\"\")\n",
    "print(f\"Predicted weights: {predicted_weights}\")\n",
    "print(f\"Predicted bias: {predicted_bias}\")"
   ]
  },
  {
   "cell_type": "markdown",
   "metadata": {},
   "source": [
    "## 01.3. Learn the parameters of the neuron using gradient descent in Keras"
   ]
  },
  {
   "cell_type": "code",
   "execution_count": 28,
   "metadata": {},
   "outputs": [
    {
     "name": "stdout",
     "output_type": "stream",
     "text": [
      "Epoch 1/10\n",
      "100/100 [==============================] - 0s 955us/step - loss: 2.8711\n",
      "Epoch 2/10\n",
      "100/100 [==============================] - 0s 920us/step - loss: 1.2382e-04\n",
      "Epoch 3/10\n",
      "100/100 [==============================] - 0s 1ms/step - loss: 1.0550e-04\n",
      "Epoch 4/10\n",
      "100/100 [==============================] - 0s 1ms/step - loss: 1.0520e-04\n",
      "Epoch 5/10\n",
      "100/100 [==============================] - 0s 1ms/step - loss: 1.0478e-04\n",
      "Epoch 6/10\n",
      "100/100 [==============================] - 0s 1ms/step - loss: 1.0555e-04\n",
      "Epoch 7/10\n",
      "100/100 [==============================] - 0s 1ms/step - loss: 1.0530e-04\n",
      "Epoch 8/10\n",
      "100/100 [==============================] - 0s 1ms/step - loss: 1.0528e-04\n",
      "Epoch 9/10\n",
      "100/100 [==============================] - 0s 1ms/step - loss: 1.0521e-04\n",
      "Epoch 10/10\n",
      "100/100 [==============================] - 0s 1ms/step - loss: 1.0533e-04\n",
      "\n",
      "Predicted weights: [ 1.9992702 -3.4001608]\n",
      "Predicted bias: 4.199626445770264\n"
     ]
    }
   ],
   "source": [
    "import tensorflow as tf\n",
    "\n",
    "# Define the training parameters\n",
    "number_epochs = 10\n",
    "batch_size = 10\n",
    "learning_rate = 0.03\n",
    "\n",
    "# Initialize the model (as a feedforward NN)\n",
    "model = tf.keras.Sequential()\n",
    "\n",
    "# Add an input with the number of features\n",
    "model.add(tf.keras.Input(shape=number_features))\n",
    "\n",
    "# Add a densely-connected NN layer without activation and with initialized weights and bias\n",
    "model.add(tf.keras.layers.Dense(1, activation=None, \\\n",
    "                                kernel_initializer=tf.initializers.RandomNormal(mean=0, stddev=0.01), \\\n",
    "                                bias_initializer=\"zeros\"))\n",
    "\n",
    "# Configure the model for training with gradient descent optimizer and mean squared error loss\n",
    "model.compile(optimizer=tf.keras.optimizers.SGD(learning_rate=learning_rate), loss=\"mean_squared_error\")\n",
    "\n",
    "# Train the model give the batch size and number of epochs\n",
    "model.fit(x=true_inputs, y=true_outputs, batch_size=batch_size, epochs=number_epochs, verbose=1)\n",
    "\n",
    "# Print the predicted weights and bias\n",
    "print(\"\")\n",
    "print(f\"Predicted weights: {model.get_weights()[0][:, 0]}\")\n",
    "print(f\"Predicted bias: {model.get_weights()[1][0]}\")"
   ]
  },
  {
   "cell_type": "markdown",
   "metadata": {},
   "source": [
    "## 01.4. Learn the parameters of the neuron using an evolutionary algorithm"
   ]
  },
  {
   "cell_type": "code",
   "execution_count": 52,
   "metadata": {},
   "outputs": [
    {
     "name": "stdout",
     "output_type": "stream",
     "text": [
      "Epoch: 0; loss: 1.970950425913069\n",
      "Epoch: 1; loss: 0.0006795033130501952\n",
      "Epoch: 2; loss: 0.0002578746405028789\n",
      "Epoch: 3; loss: 0.00015523713799769833\n",
      "Epoch: 4; loss: 0.00012460719511757384\n",
      "Epoch: 5; loss: 0.00011159377107515806\n",
      "Epoch: 6; loss: 0.00010767630173089421\n",
      "Epoch: 7; loss: 0.00010571976358958144\n",
      "Epoch: 8; loss: 0.00010503888794022367\n",
      "Epoch: 9; loss: 0.00010457581521683885\n",
      "\n",
      "Predicted weights: [ 1.99948138 -3.39962192]\n",
      "Predicted bias: 4.200280932747872\n"
     ]
    }
   ],
   "source": [
    "# Initialize the training parameters\n",
    "number_epochs = 10\n",
    "batch_size = 10\n",
    "number_individuals = 10\n",
    "number_parents = 1\n",
    "mutation_rate = 0.2\n",
    "\n",
    "# Initialize the predicted weights and bias\n",
    "predicted_weights = np.random.normal(loc=0.0, scale=0.01, size=(number_features, number_individuals))\n",
    "predicted_bias = np.zeros((1, number_individuals))\n",
    "\n",
    "# Initialize the loss for all the batches and individuals\n",
    "predicted_loss = np.zeros((int(np.ceil(number_examples/batch_size)), number_individuals))\n",
    "\n",
    "# Loop over the epochs\n",
    "for i in range(number_epochs):\n",
    "    \n",
    "    # Loop over the batches\n",
    "    k = 0\n",
    "    for j in range(0, number_examples, batch_size):\n",
    "        \n",
    "        # Derive the end index of the batch\n",
    "        j2 = min(j+batch_size, number_examples)\n",
    "    \n",
    "        # Compute the predicted outputs using the inputs, and the predicted weights and bias, for every individual\n",
    "        predicted_outputs = np.matmul(true_inputs[j:j2, :], predicted_weights) + predicted_bias\n",
    "\n",
    "        # Compute the loss using the squared error, for every individual\n",
    "        predicted_loss[k, :] = np.mean(np.power(predicted_outputs-true_outputs[j:j2, np.newaxis], 2), axis=0)\n",
    "        \n",
    "        # Get the indices of the parents, the fittest individuals\n",
    "        parent_indices = np.argsort(predicted_loss[k, :])[0:number_parents]\n",
    "        \n",
    "        # Compute the mutation scale\n",
    "        mutation_scale = mutation_rate*np.mean(predicted_loss[k, parent_indices])\n",
    "        \n",
    "        # Update the predicted weights and bias using evolutionary algorithm, doing crossover and mutation\n",
    "        predicted_weights = np.mean(predicted_weights[:, parent_indices], axis=1)[:, np.newaxis] \\\n",
    "        + np.random.normal(loc=0.0, scale=mutation_scale, size=(number_features, number_individuals))\n",
    "        predicted_bias = np.mean(predicted_bias[:, parent_indices]) \\\n",
    "        + np.random.normal(loc=0.0, scale=mutation_scale, size=(1, number_individuals))\n",
    "        \n",
    "        # Update the index\n",
    "        k = k+1\n",
    "        \n",
    "    # Print the epoch and loss\n",
    "    print(f\"Epoch: {i}; loss: {np.mean(predicted_loss)}\")\n",
    "    \n",
    "# Print the predicted weights and bias\n",
    "print(\"\")\n",
    "print(f\"Predicted weights: {np.mean(predicted_weights, axis=1)}\")\n",
    "print(f\"Predicted bias: {np.mean(predicted_bias)}\")"
   ]
  },
  {
   "cell_type": "markdown",
   "metadata": {},
   "source": [
    "## 02.1. Prepare a dataset for a classification problem"
   ]
  },
  {
   "cell_type": "code",
   "execution_count": 53,
   "metadata": {},
   "outputs": [
    {
     "data": {
      "image/png": "[encoded data removed]",
      "text/plain": [
       "<Figure size 1224x720 with 10 Axes>"
      ]
     },
     "metadata": {},
     "output_type": "display_data"
    }
   ],
   "source": [
    "import numpy as np\n",
    "import tensorflow as tf\n",
    "import matplotlib.pyplot as plt\n",
    "\n",
    "# Import the fashion-MNIST dataset\n",
    "fashion_mnist = tf.keras.datasets.fashion_mnist\n",
    "(train_images, train_labels), (test_images, test_labels) = fashion_mnist.load_data()\n",
    "class_names = ['T-shirt/top', 'Trouser', 'Pullover', 'Dress', 'Coat', \\\n",
    "               'Sandal', 'Shirt', 'Sneaker', 'Bag', 'Ankle boot']\n",
    "\n",
    "# Show some of the data\n",
    "plt.figure(figsize=(17, 10))\n",
    "for i in range(10):\n",
    "    plt.subplot(1, 10, i+1)\n",
    "    plt.imshow(train_images[i], cmap=plt.cm.binary)\n",
    "    plt.title(class_names[train_labels[i]])\n",
    "    plt.xticks([])\n",
    "    plt.yticks([])\n",
    "plt.show()\n",
    "\n",
    "# Get the number of train and test examples and the sizes of the inputs and outputs\n",
    "number_train = np.shape(train_images)[0]\n",
    "number_test = np.shape(test_images)[0]\n",
    "input_size = np.shape(train_images)[1]*np.shape(train_images)[2]\n",
    "output_size = len(class_names)\n",
    "\n",
    "# Reshape the data and normalize it\n",
    "train_inputs = np.reshape(train_images, (number_train, input_size))\n",
    "train_inputs = train_inputs/255\n",
    "test_inputs = np.reshape(test_images, (number_test, input_size))\n",
    "test_inputs = test_inputs/255"
   ]
  },
  {
   "cell_type": "markdown",
   "metadata": {},
   "source": [
    "## 02.2. Learn the parameters of a single neuron with a softmax"
   ]
  },
  {
   "cell_type": "code",
   "execution_count": 65,
   "metadata": {},
   "outputs": [],
   "source": [
    "# Define the training parameters\n",
    "number_epochs = 10\n",
    "batch_size = 256\n",
    "learning_rate = 0.03\n",
    "\n",
    "# Initialize the weights and bias\n",
    "train_weights = np.random.normal(loc=0.0, scale=0.01, size=(input_size, output_size))\n",
    "train_biases = np.zeros(output_size)\n",
    "\n",
    "# Initialize the loss for all the batches\n",
    "model_loss = np.zeros(int(np.ceil(number_train/batch_size)))\n",
    "\n",
    "# Loop over the epochs\n",
    "for i in range(number_epochs):\n",
    "    \n",
    "    # Loop over the batches\n",
    "    k = 0\n",
    "    for j in range(0, number_train, batch_size):\n",
    "        \n",
    "        # Derive the end index of the batch\n",
    "        j2 = min(j+batch_size, number_train)\n",
    "    \n",
    "        # Compute the predicted outputs using the inputs, and the learned weights and biases\n",
    "        train_outputs2 = np.matmul(train_inputs[j:j2, :], train_weights) + train_biases\n",
    "        \n",
    "        train_outputs2 = np.exp(train_outputs2)\n",
    "        train_outputs2 = train_outputs2/np.sum(train_outputs2, axis=1)[:, np.newaxis]\n",
    "        \n",
    "        # Update the index\n",
    "        k = k+1"
   ]
  }
 ],
 "metadata": {
  "kernelspec": {
   "display_name": "Python 3",
   "language": "python",
   "name": "python3"
  },
  "language_info": {
   "codemirror_mode": {
    "name": "ipython",
    "version": 3
   },
   "file_extension": ".py",
   "mimetype": "text/x-python",
   "name": "python",
   "nbconvert_exporter": "python",
   "pygments_lexer": "ipython3",
   "version": "3.7.3"
  }
 },
 "nbformat": 4,
 "nbformat_minor": 4
}
